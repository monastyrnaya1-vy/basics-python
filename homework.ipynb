{
 "cells": [
  {
   "cell_type": "markdown",
   "metadata": {},
   "source": [
    "Задание №1"
   ]
  },
  {
   "cell_type": "code",
   "execution_count": 4,
   "metadata": {},
   "outputs": [],
   "source": [
    "long_phrase = 'Насколько проще было бы писать программы, если бы не заказчики'\n",
    "short_phrase = '640Кб должно хватить для любых задач. Билл Гейтс (по легенде)'"
   ]
  },
  {
   "cell_type": "code",
   "execution_count": 5,
   "metadata": {},
   "outputs": [
    {
     "name": "stdout",
     "output_type": "stream",
     "text": [
      "True\n"
     ]
    }
   ],
   "source": [
    "if len(long_phrase) > len(short_phrase):\n",
    "    print(True)\n",
    "else:\n",
    "    print(False)"
   ]
  },
  {
   "cell_type": "markdown",
   "metadata": {},
   "source": [
    "Задание №2"
   ]
  },
  {
   "cell_type": "code",
   "execution_count": 6,
   "metadata": {},
   "outputs": [
    {
     "name": "stdout",
     "output_type": "stream",
     "text": [
      "1000000000\n",
      "Объем файла равен  953.67431640625 Mb\n"
     ]
    }
   ],
   "source": [
    "byte = float(input())\n",
    "M = float(byte/(2**20))\n",
    "print(\"Объем файла равен \", byte/(2**20),\"Mb\")"
   ]
  },
  {
   "cell_type": "markdown",
   "metadata": {},
   "source": [
    "Задание №3"
   ]
  },
  {
   "cell_type": "code",
   "execution_count": 7,
   "metadata": {},
   "outputs": [
    {
     "name": "stdout",
     "output_type": "stream",
     "text": [
      "Введите день рождения: 25\n",
      "Введите месяц рождения в именительном падеже: октябрь\n",
      "Скорпион\n"
     ]
    }
   ],
   "source": [
    "day = int(input('Введите день рождения: '))\n",
    "month = input('Введите месяц рождения в именительном падеже: ')\n",
    "\n",
    "if 20 <day <32 and month == \"март\" or 0<day<20 and month == \"апрель\":\n",
    "        print(\"Овен\")\n",
    "elif  19<day<31 and month == \"апрель\" or 0<day<21 and month == \"май\":\n",
    "        print(\"Телец\")\n",
    "elif  20<day<31 and month == \"май\" or 0<day<21 and month == \"июнь\":\n",
    "        print(\"Близнецы\")\n",
    "elif  20<day<31 and month == \"июнь\" or 0<day<23 and month == \"июль\":\n",
    "        print(\"Рак\")\n",
    "elif  22<day<32 and month == \"июль\" or 0<day<23 and month == \"август\":\n",
    "        print(\"Лев\")\n",
    "elif  22<day<32 and month == \"август\" or 0<day<23 and month == \"сентябрь\":\n",
    "        print(\"Дева\")\n",
    "elif 22<day<31 and month == \"сентябрь\" or 0<day<23 and month == \"октябрь\":\n",
    "        print(\"Весы\")\n",
    "elif 22<day<32 and month == \"октябрь\" or 0<day<22 and month == \"ноябрь\":\n",
    "        print(\"Скорпион\")\n",
    "elif 21<day<31 and month == \"ноябрь\" or 0<day<22 and month == \"декабрь\":\n",
    "        print(\"Стрелец\")\n",
    "elif 21<day<32 and month == \"декабрь\" or 0<day<20 and month == \"январь\":\n",
    "        print(\"Козерог\")\n",
    "elif 19<day<31 and month == \"январь\" or 0<day<20 and month == \"январь\":\n",
    "        print(\"Водолей\")\n",
    "elif 18<day<30 and month == \"февраль\" or 0<day<21 and month == \"март\" :\n",
    "        print(\"Рыбы\")\n",
    "else:\n",
    "    print('Проверьте правильность введенных данных')"
   ]
  },
  {
   "cell_type": "markdown",
   "metadata": {},
   "source": [
    "Задание №4"
   ]
  },
  {
   "cell_type": "code",
   "execution_count": 3,
   "metadata": {},
   "outputs": [
    {
     "name": "stdout",
     "output_type": "stream",
     "text": [
      "введите ежемесячную заработную плату в рублях: 100000\n",
      "какой % от з/п выплачивается на ипотеку?: 30\n",
      "какой % от з/п тратится на жизнь? 40\n",
      "Сколько раз за год получали премию?: 1\n",
      "На ипотеку было потрачено  360000.0 рублей\n",
      "Было накоплено  410000.0 рублей\n"
     ]
    }
   ],
   "source": [
    "zp = float(input(\"введите ежемесячную заработную плату в рублях: \"))*12\n",
    "c = float(input(\"какой % от з/п выплачивается на ипотеку?: \"))\n",
    "credit = zp*c/100\n",
    "l = float(input(\"какой % от з/п тратится на жизнь? \"))\n",
    "life = zp*l/100\n",
    "b = int(input(\"Сколько раз за год получали премию?: \"))\n",
    "bonus = b*(zp/12)\n",
    "pension = zp-credit-life\n",
    "holiday = bonus*0.5\n",
    "capital = bonus*0.5\n",
    "\n",
    "if zp>0 and b>0:\n",
    "    print(\"На ипотеку было потрачено \", credit, \"рублей\")\n",
    "    print(\"Было накоплено \", capital+pension, \"рублей\")\n",
    "\n"
   ]
  },
  {
   "cell_type": "code",
   "execution_count": null,
   "metadata": {},
   "outputs": [],
   "source": []
  },
  {
   "cell_type": "code",
   "execution_count": null,
   "metadata": {},
   "outputs": [],
   "source": []
  },
  {
   "cell_type": "code",
   "execution_count": null,
   "metadata": {},
   "outputs": [],
   "source": []
  }
 ],
 "metadata": {
  "kernelspec": {
   "display_name": "Python 3",
   "language": "python",
   "name": "python3"
  },
  "language_info": {
   "codemirror_mode": {
    "name": "ipython",
    "version": 3
   },
   "file_extension": ".py",
   "mimetype": "text/x-python",
   "name": "python",
   "nbconvert_exporter": "python",
   "pygments_lexer": "ipython3",
   "version": "3.7.4"
  }
 },
 "nbformat": 4,
 "nbformat_minor": 2
}
